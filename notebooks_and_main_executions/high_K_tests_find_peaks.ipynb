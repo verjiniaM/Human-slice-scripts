{
 "cells": [
  {
   "cell_type": "code",
   "execution_count": 1,
   "metadata": {},
   "outputs": [
    {
     "name": "stderr",
     "output_type": "stream",
     "text": [
      "/Users/verjim/laptop_D_17.01.2022/Schmitz_lab/code/Human-slice-scripts/detect_peaks.py:11: UserWarning: A newest version is available at https://pypi.org/project/detecta/\n",
      "  warnings.warn('A newest version is available at https://pypi.org/project/detecta/')\n"
     ]
    }
   ],
   "source": [
    "import os\n",
    "import human_characterisation_functions as hcf\n",
    "import pandas as pd\n",
    "import glob\n",
    "import sorting_functions as sort\n",
    "import funcs_for_results_tables as get_results\n",
    "import numpy as np\n",
    "import detect_peaks as peaks\n",
    "import matplotlib.pyplot as plt\n",
    "\n",
    "human_dir = '/Users/verjim/laptop_D_17.01.2022/Schmitz_lab/data/human/'\n",
    "#results_dir = '/Users/verjim/laptop_D_17.01.2022/Schmitz_lab/results/human/data/'\n",
    "exp_view = pd.read_excel(glob.glob(human_dir + '*experiments_overview.xlsx')[0]) \n",
    "exp_view_new = sort.update_op_list(human_dir, exp_view)\n",
    "sort.add_cortex_out_time(human_dir, exp_view_new)"
   ]
  },
  {
   "cell_type": "markdown",
   "metadata": {},
   "source": [
    "# High K condition analysis"
   ]
  },
  {
   "cell_type": "code",
   "execution_count": 2,
   "metadata": {},
   "outputs": [],
   "source": [
    "\n",
    "OP = 'OP230330'\n",
    "patcher = 'Verji'\n",
    "tissue_source = 'Hamburg'\n",
    "inj = 'full'\n",
    "age = 35\n",
    "\n",
    "# # the times at which a change in recording solution\n",
    "# change_times_dict = {\n",
    "#     'S1' : ['2023-01-27 20:10:00', 'wash in high K'],\n",
    "#     'S2' : ['2023-01-27 23:20:00', 'wash out high K']\n",
    "#     # 'S3' : ['2022-06-16 13:34:00', 'wash in TTX'],\n",
    "#     # 'S4' : ['2022-06-16 15:32:00', 'wash in TTX'],\n",
    "#     # 'S5' : ['2022-06-17 09:39:00', 'wash in high K'],\n",
    "#     # 'S6' : ['2022-06-17 11:40:00', 'wash out high K'],\n",
    "#     # 'S7' : ['2022-06-17 14:00:00', 'nothing'],\n",
    "#     # 'S8' : ['2022-06-17 15:30:00', 'wash out high K']\n",
    "# }"
   ]
  },
  {
   "cell_type": "code",
   "execution_count": 5,
   "metadata": {},
   "outputs": [],
   "source": [
    "OP = 'OP230914'\n",
    "patcher = 'Verji'\n",
    "tissue_source = 'Bielefeld'\n",
    "inj = 'full'\n",
    "age = 13\n",
    "\n",
    "work_dir, filenames, indices_dict, slice_names = sort.get_OP_metadata(human_dir, OP, patcher)\n"
   ]
  },
  {
   "cell_type": "code",
   "execution_count": 21,
   "metadata": {},
   "outputs": [],
   "source": [
    "work_dir, filenames, indices_dict, slice_names = sort.get_OP_metadata(human_dir, OP, patcher)\n",
    "\n",
    "file_list = sort.get_sorted_file_list(work_dir)\n",
    "jsons = sort.get_json_files(file_list)\n",
    "if OP + '_indices_dict.json' in jsons:\n",
    "    indices_dict = sort.from_json(work_dir, OP, '_indices_dict.json')\n",
    "else: \n",
    "    sort.to_json(work_dir, OP, '_indices_dict.json', indices_dict)\n",
    "\n",
    "slice_names = np.array(slice_names)\n"
   ]
  },
  {
   "cell_type": "code",
   "execution_count": 26,
   "metadata": {},
   "outputs": [
    {
     "data": {
      "text/plain": [
       "array(['Ctrl temp', 'high K temp', 'high K RT', 'Ctrl RT'], dtype=object)"
      ]
     },
     "execution_count": 26,
     "metadata": {},
     "output_type": "execute_result"
    }
   ],
   "source": [
    "df = pd.read_excel('/Users/verjim/laptop_D_17.01.2022/Schmitz_lab/data/human/data_verji/OP230914/lab_book_OP230914.xlsx',\n",
    "header = 1)\n",
    "df['condition'].dropna().unique()\n",
    "#print(len(indices_dict['resting_long']))"
   ]
  },
  {
   "cell_type": "code",
   "execution_count": 27,
   "metadata": {},
   "outputs": [
    {
     "data": {
      "text/plain": [
       "'23914005'"
      ]
     },
     "execution_count": 27,
     "metadata": {},
     "output_type": "execute_result"
    }
   ],
   "source": [
    "filenames[4][:-4]"
   ]
  },
  {
   "cell_type": "code",
   "execution_count": 29,
   "metadata": {},
   "outputs": [],
   "source": [
    "#creating a filename dictionary with conditions\n",
    "exp_condition = df['condition'].dropna().tolist()\n",
    "conditions_dict = {}\n",
    "\n",
    "for i, rest_indx in enumerate(indices_dict['resting_long']):\n",
    "    conditions_dict[filenames[rest_indx][:-4]] = [slice_names[rest_indx], exp_condition[i]]"
   ]
  },
  {
   "cell_type": "code",
   "execution_count": 30,
   "metadata": {},
   "outputs": [
    {
     "data": {
      "text/plain": [
       "{'23914004': ['S1', 'Ctrl temp'],\n",
       " '23914005': ['S1', 'high K temp'],\n",
       " '23914008': ['S1', 'high K temp'],\n",
       " '23914009': ['S1', 'Ctrl temp'],\n",
       " '23914012': ['S2', 'high K RT'],\n",
       " '23914013': ['S2', 'high K temp'],\n",
       " '23914014': ['S2', 'Ctrl temp'],\n",
       " '23914015': ['S2', 'Ctrl RT'],\n",
       " '23914018': ['S2', 'Ctrl RT'],\n",
       " '23914019': ['S2', 'Ctrl temp'],\n",
       " '23914020': ['S3', 'high K temp'],\n",
       " '23914021': ['S3', 'high K RT'],\n",
       " '23914025': ['S3', 'high K RT'],\n",
       " '23914026': ['S3', 'high K temp'],\n",
       " '23914027': ['S3', 'Ctrl temp'],\n",
       " '23914028': ['S3', 'Ctrl RT']}"
      ]
     },
     "execution_count": 30,
     "metadata": {},
     "output_type": "execute_result"
    }
   ],
   "source": [
    "  conditions_dict\n"
   ]
  },
  {
   "cell_type": "code",
   "execution_count": 308,
   "metadata": {},
   "outputs": [],
   "source": [
    "# channel_list = [ch + ' ' + k for ch in ['Ch' + str(i) for i in range(1,9)] for k in ['before', 'after']]\n",
    "# RMP_all = pd.DataFrame(columns = ['slice', 'channel/condition', 'resting_potential', 'num_peaks', 'exp_condition'])\n",
    "\n",
    "# for slic in np.unique(slice_names):\n",
    "#     change_time = sort.get_datetime_from_input(change_times_dict[slic][0])\n",
    "\n",
    "#     first_for_slice = np.where(slice_names == slic)[0][0]\n",
    "#     last_for_slice = np.where(slice_names == slic)[0][-1]\n",
    "#     true_indices = (first_for_slice <= indices_dict['vm_mouse_long']) & (indices_dict['vm_mouse_long'] <= last_for_slice)\n",
    "\n",
    "#     vm_files = np.array(indices_dict['vm_mouse_long'])\n",
    "#     vm_long_all_dict = dict(zip(channel_list, [np.empty(0)]*len(channel_list)))\n",
    "\n",
    "#     for indx in vm_files[true_indices]: #change here\n",
    "#         fn1 = work_dir + filenames[indx]\n",
    "#         rec_time = hcf.get_recording_time(fn1)\n",
    "#         if rec_time < change_time:\n",
    "#             condition = ' before'\n",
    "#         else: \n",
    "#             condition = ' after'\n",
    "#         vm_long = hcf.load_traces(fn1)\n",
    "#         for ch in vm_long.keys(): # change here\n",
    "            \n",
    "#             vm_long_flat = np.reshape(vm_long[ch][0], -1)\n",
    "#             if np.mean(vm_long_flat[0:500]) < -90 or np.mean(vm_long_flat[0:500]) > -35:\n",
    "#                 continue\n",
    "#             vm_long_all_dict[ch + condition] = np.concatenate((vm_long_all_dict[ch + condition], vm_long_flat))\n",
    "    \n",
    "#     for chan in channel_list:\n",
    "#         if len(vm_long_all_dict[chan]) == 0:\n",
    "#             del vm_long_all_dict[chan]\n",
    "\n",
    "#     keys_dict = list(vm_long_all_dict.keys())\n",
    "#     #delete if there is no signal before and after\n",
    "#     to_del = []\n",
    "#     for i in range(1,len(keys_dict)-1):\n",
    "#         if keys_dict[i][:3] != keys_dict[i-1][:3] and keys_dict[i][:3] != keys_dict[i+1][:3]:\n",
    "#             to_del.append(i)\n",
    "#     if keys_dict[i+1][:3] != keys_dict[i][:3]:\n",
    "#         to_del.append(i)\n",
    "#     to_del = sorted(to_del, reverse=True)\n",
    "#     for d in np.unique(to_del):\n",
    "#         chan = keys_dict[d]\n",
    "#         del vm_long_all_dict[chan]\n",
    "\n",
    "#     keys_ = list(vm_long_all_dict.keys())\n",
    "#     peaks_dict = dict(zip(keys_, [np.empty(0)]*len(keys_)))\n",
    "#     RMPs = dict(zip(keys_, [np.empty(0)]*len(keys_)))\n",
    "\n",
    "#     #fig, axs = plt.subplots(len(vm_long_all_dict), 1,figsize=(20, 8), sharex = True)\n",
    "\n",
    "#     for i, chan in enumerate(vm_long_all_dict.keys()):\n",
    "#         peaks1 = peaks.detect_peaks(vm_long_all_dict[chan], mph = 10, mpd = 10, \n",
    "#         edge='rising',kpsh=True, show=False, title = chan)\n",
    "#     #peaks1 = peaks.detect_peaks(vm_long_all_dict[chan], mph = 10, mpd = 10, \n",
    "#         #edge='rising',kpsh=True, ax = axs[i], show=True, title = chan)\n",
    "#         peaks_dict[chan] = np.concatenate((peaks_dict[chan], peaks1))\n",
    "#         if 'before' in chan:\n",
    "#             RMPs[chan] = np.mean(vm_long_all_dict[chan][:1000])\n",
    "#         else: \n",
    "#             RMPs[chan] = np.mean(vm_long_all_dict[chan][-1000:])\n",
    "#     num_peaks = []\n",
    "#     for chan in peaks_dict.keys():\n",
    "#         num_peaks.append(len(peaks_dict[chan]))\n",
    "#     #fix to add slice name\n",
    "#     RMP_df = pd.DataFrame({'slice': slic, 'channel/condition': RMPs.keys(), \n",
    "#     'resting_potential' : RMPs.values(), 'num_peaks': num_peaks, 'exp_condition': change_times_dict[slic][1]})\n",
    "#     RMP_all = pd.concat([RMP_all.loc[:], RMP_df]).reset_index(drop=True)\n",
    "\n",
    "# RMP_all.to_excel(work_dir + '/data_tables/' + OP + '_RMPs.xlsx', index=False)\n",
    "        "
   ]
  },
  {
   "cell_type": "code",
   "execution_count": 356,
   "metadata": {},
   "outputs": [
    {
     "ename": "OSError",
     "evalue": "Cannot save file into a non-existent directory: '/Users/verjim/laptop_D_17.01.2022/Schmitz_lab/data/human/data_verji/OP230126/data_tables'",
     "output_type": "error",
     "traceback": [
      "\u001b[0;31m---------------------------------------------------------------------------\u001b[0m",
      "\u001b[0;31mOSError\u001b[0m                                   Traceback (most recent call last)",
      "\u001b[1;32m/Users/verjim/laptop_D_17.01.2022/Schmitz_lab/code/Human-slice-scripts/high_K_tests_find_peaks.ipynb Cell 5\u001b[0m in \u001b[0;36m<cell line: 25>\u001b[0;34m()\u001b[0m\n\u001b[1;32m     <a href='vscode-notebook-cell:/Users/verjim/laptop_D_17.01.2022/Schmitz_lab/code/Human-slice-scripts/high_K_tests_find_peaks.ipynb#Y111sZmlsZQ%3D%3D?line=20'>21</a>\u001b[0m         RMP_df \u001b[39m=\u001b[39m pd\u001b[39m.\u001b[39mDataFrame({\u001b[39m'\u001b[39m\u001b[39mfn\u001b[39m\u001b[39m'\u001b[39m: filenames[indx], \u001b[39m'\u001b[39m\u001b[39mslice\u001b[39m\u001b[39m'\u001b[39m: slic, \u001b[39m'\u001b[39m\u001b[39mresting_potential\u001b[39m\u001b[39m'\u001b[39m : RMP, \n\u001b[1;32m     <a href='vscode-notebook-cell:/Users/verjim/laptop_D_17.01.2022/Schmitz_lab/code/Human-slice-scripts/high_K_tests_find_peaks.ipynb#Y111sZmlsZQ%3D%3D?line=21'>22</a>\u001b[0m         \u001b[39m'\u001b[39m\u001b[39mchannel\u001b[39m\u001b[39m'\u001b[39m: ch,\u001b[39m'\u001b[39m\u001b[39mnum_peaks\u001b[39m\u001b[39m'\u001b[39m: num_peaks}, index\u001b[39m=\u001b[39m[\u001b[39m0\u001b[39m])\n\u001b[1;32m     <a href='vscode-notebook-cell:/Users/verjim/laptop_D_17.01.2022/Schmitz_lab/code/Human-slice-scripts/high_K_tests_find_peaks.ipynb#Y111sZmlsZQ%3D%3D?line=22'>23</a>\u001b[0m         RMP_all \u001b[39m=\u001b[39m pd\u001b[39m.\u001b[39mconcat([RMP_all\u001b[39m.\u001b[39mloc[:], RMP_df])\u001b[39m.\u001b[39mreset_index(drop\u001b[39m=\u001b[39m\u001b[39mTrue\u001b[39;00m)\n\u001b[0;32m---> <a href='vscode-notebook-cell:/Users/verjim/laptop_D_17.01.2022/Schmitz_lab/code/Human-slice-scripts/high_K_tests_find_peaks.ipynb#Y111sZmlsZQ%3D%3D?line=24'>25</a>\u001b[0m RMP_all\u001b[39m.\u001b[39;49mto_excel(work_dir \u001b[39m+\u001b[39;49m \u001b[39m'\u001b[39;49m\u001b[39m/data_tables/\u001b[39;49m\u001b[39m'\u001b[39;49m \u001b[39m+\u001b[39;49m OP \u001b[39m+\u001b[39;49m \u001b[39m'\u001b[39;49m\u001b[39m_RMPs.xlsx\u001b[39;49m\u001b[39m'\u001b[39;49m, index\u001b[39m=\u001b[39;49m\u001b[39mFalse\u001b[39;49;00m)\n",
      "File \u001b[0;32m~/opt/anaconda3/lib/python3.9/site-packages/pandas/core/generic.py:2345\u001b[0m, in \u001b[0;36mNDFrame.to_excel\u001b[0;34m(self, excel_writer, sheet_name, na_rep, float_format, columns, header, index, index_label, startrow, startcol, engine, merge_cells, encoding, inf_rep, verbose, freeze_panes, storage_options)\u001b[0m\n\u001b[1;32m   2332\u001b[0m \u001b[39mfrom\u001b[39;00m \u001b[39mpandas\u001b[39;00m\u001b[39m.\u001b[39;00m\u001b[39mio\u001b[39;00m\u001b[39m.\u001b[39;00m\u001b[39mformats\u001b[39;00m\u001b[39m.\u001b[39;00m\u001b[39mexcel\u001b[39;00m \u001b[39mimport\u001b[39;00m ExcelFormatter\n\u001b[1;32m   2334\u001b[0m formatter \u001b[39m=\u001b[39m ExcelFormatter(\n\u001b[1;32m   2335\u001b[0m     df,\n\u001b[1;32m   2336\u001b[0m     na_rep\u001b[39m=\u001b[39mna_rep,\n\u001b[0;32m   (...)\u001b[0m\n\u001b[1;32m   2343\u001b[0m     inf_rep\u001b[39m=\u001b[39minf_rep,\n\u001b[1;32m   2344\u001b[0m )\n\u001b[0;32m-> 2345\u001b[0m formatter\u001b[39m.\u001b[39;49mwrite(\n\u001b[1;32m   2346\u001b[0m     excel_writer,\n\u001b[1;32m   2347\u001b[0m     sheet_name\u001b[39m=\u001b[39;49msheet_name,\n\u001b[1;32m   2348\u001b[0m     startrow\u001b[39m=\u001b[39;49mstartrow,\n\u001b[1;32m   2349\u001b[0m     startcol\u001b[39m=\u001b[39;49mstartcol,\n\u001b[1;32m   2350\u001b[0m     freeze_panes\u001b[39m=\u001b[39;49mfreeze_panes,\n\u001b[1;32m   2351\u001b[0m     engine\u001b[39m=\u001b[39;49mengine,\n\u001b[1;32m   2352\u001b[0m     storage_options\u001b[39m=\u001b[39;49mstorage_options,\n\u001b[1;32m   2353\u001b[0m )\n",
      "File \u001b[0;32m~/opt/anaconda3/lib/python3.9/site-packages/pandas/io/formats/excel.py:888\u001b[0m, in \u001b[0;36mExcelFormatter.write\u001b[0;34m(self, writer, sheet_name, startrow, startcol, freeze_panes, engine, storage_options)\u001b[0m\n\u001b[1;32m    884\u001b[0m     need_save \u001b[39m=\u001b[39m \u001b[39mFalse\u001b[39;00m\n\u001b[1;32m    885\u001b[0m \u001b[39melse\u001b[39;00m:\n\u001b[1;32m    886\u001b[0m     \u001b[39m# error: Cannot instantiate abstract class 'ExcelWriter' with abstract\u001b[39;00m\n\u001b[1;32m    887\u001b[0m     \u001b[39m# attributes 'engine', 'save', 'supported_extensions' and 'write_cells'\u001b[39;00m\n\u001b[0;32m--> 888\u001b[0m     writer \u001b[39m=\u001b[39m ExcelWriter(  \u001b[39m# type: ignore[abstract]\u001b[39;49;00m\n\u001b[1;32m    889\u001b[0m         writer, engine\u001b[39m=\u001b[39;49mengine, storage_options\u001b[39m=\u001b[39;49mstorage_options\n\u001b[1;32m    890\u001b[0m     )\n\u001b[1;32m    891\u001b[0m     need_save \u001b[39m=\u001b[39m \u001b[39mTrue\u001b[39;00m\n\u001b[1;32m    893\u001b[0m \u001b[39mtry\u001b[39;00m:\n",
      "File \u001b[0;32m~/opt/anaconda3/lib/python3.9/site-packages/pandas/io/excel/_xlsxwriter.py:191\u001b[0m, in \u001b[0;36mXlsxWriter.__init__\u001b[0;34m(self, path, engine, date_format, datetime_format, mode, storage_options, if_sheet_exists, engine_kwargs, **kwargs)\u001b[0m\n\u001b[1;32m    188\u001b[0m \u001b[39mif\u001b[39;00m mode \u001b[39m==\u001b[39m \u001b[39m\"\u001b[39m\u001b[39ma\u001b[39m\u001b[39m\"\u001b[39m:\n\u001b[1;32m    189\u001b[0m     \u001b[39mraise\u001b[39;00m \u001b[39mValueError\u001b[39;00m(\u001b[39m\"\u001b[39m\u001b[39mAppend mode is not supported with xlsxwriter!\u001b[39m\u001b[39m\"\u001b[39m)\n\u001b[0;32m--> 191\u001b[0m \u001b[39msuper\u001b[39;49m()\u001b[39m.\u001b[39;49m\u001b[39m__init__\u001b[39;49m(\n\u001b[1;32m    192\u001b[0m     path,\n\u001b[1;32m    193\u001b[0m     engine\u001b[39m=\u001b[39;49mengine,\n\u001b[1;32m    194\u001b[0m     date_format\u001b[39m=\u001b[39;49mdate_format,\n\u001b[1;32m    195\u001b[0m     datetime_format\u001b[39m=\u001b[39;49mdatetime_format,\n\u001b[1;32m    196\u001b[0m     mode\u001b[39m=\u001b[39;49mmode,\n\u001b[1;32m    197\u001b[0m     storage_options\u001b[39m=\u001b[39;49mstorage_options,\n\u001b[1;32m    198\u001b[0m     if_sheet_exists\u001b[39m=\u001b[39;49mif_sheet_exists,\n\u001b[1;32m    199\u001b[0m     engine_kwargs\u001b[39m=\u001b[39;49mengine_kwargs,\n\u001b[1;32m    200\u001b[0m )\n\u001b[1;32m    202\u001b[0m \u001b[39mself\u001b[39m\u001b[39m.\u001b[39mbook \u001b[39m=\u001b[39m Workbook(\u001b[39mself\u001b[39m\u001b[39m.\u001b[39mhandles\u001b[39m.\u001b[39mhandle, \u001b[39m*\u001b[39m\u001b[39m*\u001b[39mengine_kwargs)\n",
      "File \u001b[0;32m~/opt/anaconda3/lib/python3.9/site-packages/pandas/io/excel/_base.py:1106\u001b[0m, in \u001b[0;36mExcelWriter.__init__\u001b[0;34m(self, path, engine, date_format, datetime_format, mode, storage_options, if_sheet_exists, engine_kwargs, **kwargs)\u001b[0m\n\u001b[1;32m   1102\u001b[0m \u001b[39mself\u001b[39m\u001b[39m.\u001b[39mhandles \u001b[39m=\u001b[39m IOHandles(\n\u001b[1;32m   1103\u001b[0m     cast(IO[\u001b[39mbytes\u001b[39m], path), compression\u001b[39m=\u001b[39m{\u001b[39m\"\u001b[39m\u001b[39mcompression\u001b[39m\u001b[39m\"\u001b[39m: \u001b[39mNone\u001b[39;00m}\n\u001b[1;32m   1104\u001b[0m )\n\u001b[1;32m   1105\u001b[0m \u001b[39mif\u001b[39;00m \u001b[39mnot\u001b[39;00m \u001b[39misinstance\u001b[39m(path, ExcelWriter):\n\u001b[0;32m-> 1106\u001b[0m     \u001b[39mself\u001b[39m\u001b[39m.\u001b[39mhandles \u001b[39m=\u001b[39m get_handle(\n\u001b[1;32m   1107\u001b[0m         path, mode, storage_options\u001b[39m=\u001b[39;49mstorage_options, is_text\u001b[39m=\u001b[39;49m\u001b[39mFalse\u001b[39;49;00m\n\u001b[1;32m   1108\u001b[0m     )\n\u001b[1;32m   1109\u001b[0m \u001b[39mself\u001b[39m\u001b[39m.\u001b[39msheets: \u001b[39mdict\u001b[39m[\u001b[39mstr\u001b[39m, Any] \u001b[39m=\u001b[39m {}\n\u001b[1;32m   1110\u001b[0m \u001b[39mself\u001b[39m\u001b[39m.\u001b[39mcur_sheet \u001b[39m=\u001b[39m \u001b[39mNone\u001b[39;00m\n",
      "File \u001b[0;32m~/opt/anaconda3/lib/python3.9/site-packages/pandas/io/common.py:697\u001b[0m, in \u001b[0;36mget_handle\u001b[0;34m(path_or_buf, mode, encoding, compression, memory_map, is_text, errors, storage_options)\u001b[0m\n\u001b[1;32m    695\u001b[0m \u001b[39m# Only for write methods\u001b[39;00m\n\u001b[1;32m    696\u001b[0m \u001b[39mif\u001b[39;00m \u001b[39m\"\u001b[39m\u001b[39mr\u001b[39m\u001b[39m\"\u001b[39m \u001b[39mnot\u001b[39;00m \u001b[39min\u001b[39;00m mode \u001b[39mand\u001b[39;00m is_path:\n\u001b[0;32m--> 697\u001b[0m     check_parent_directory(\u001b[39mstr\u001b[39;49m(handle))\n\u001b[1;32m    699\u001b[0m \u001b[39mif\u001b[39;00m compression:\n\u001b[1;32m    700\u001b[0m     \u001b[39mif\u001b[39;00m compression \u001b[39m!=\u001b[39m \u001b[39m\"\u001b[39m\u001b[39mzstd\u001b[39m\u001b[39m\"\u001b[39m:\n\u001b[1;32m    701\u001b[0m         \u001b[39m# compression libraries do not like an explicit text-mode\u001b[39;00m\n",
      "File \u001b[0;32m~/opt/anaconda3/lib/python3.9/site-packages/pandas/io/common.py:571\u001b[0m, in \u001b[0;36mcheck_parent_directory\u001b[0;34m(path)\u001b[0m\n\u001b[1;32m    569\u001b[0m parent \u001b[39m=\u001b[39m Path(path)\u001b[39m.\u001b[39mparent\n\u001b[1;32m    570\u001b[0m \u001b[39mif\u001b[39;00m \u001b[39mnot\u001b[39;00m parent\u001b[39m.\u001b[39mis_dir():\n\u001b[0;32m--> 571\u001b[0m     \u001b[39mraise\u001b[39;00m \u001b[39mOSError\u001b[39;00m(\u001b[39mrf\u001b[39m\u001b[39m\"\u001b[39m\u001b[39mCannot save file into a non-existent directory: \u001b[39m\u001b[39m'\u001b[39m\u001b[39m{\u001b[39;00mparent\u001b[39m}\u001b[39;00m\u001b[39m'\u001b[39m\u001b[39m\"\u001b[39m)\n",
      "\u001b[0;31mOSError\u001b[0m: Cannot save file into a non-existent directory: '/Users/verjim/laptop_D_17.01.2022/Schmitz_lab/data/human/data_verji/OP230126/data_tables'"
     ]
    }
   ],
   "source": [
    "#when conditons change many times, do analysis based on filename\n",
    "\n",
    "RMP_all = pd.DataFrame(columns = ['fn', 'slice', 'channel', 'resting_potential', 'num_peaks', 'exp_condition'])\n",
    "\n",
    "for indx in indices_dict['resting_long']: \n",
    "    slic = slice_names[indx]\n",
    "    fn1 = work_dir + filenames[indx]\n",
    "    rec_time = hcf.get_recording_time(fn1)\n",
    "\n",
    "    vm_long = hcf.load_traces(fn1)\n",
    "    for ch in vm_long.keys(): \n",
    "        \n",
    "        vm_long_flat = np.reshape(vm_long[ch][0], -1)\n",
    "        if np.mean(vm_long_flat[0:500]) < -90 or np.mean(vm_long_flat[0:500]) > -35:\n",
    "            continue\n",
    "        peaks1 = peaks.detect_peaks(vm_long_flat, mph = 10, mpd = 10, \n",
    "        edge='rising',kpsh=True, show=False, title = chan)\n",
    "        num_peaks = len(peaks1)\n",
    "        RMP = np.mean(vm_long_flat[:500])\n",
    "        \n",
    "        RMP_df = pd.DataFrame({'fn': filenames[indx], 'slice': slic, 'resting_potential' : RMP, \n",
    "        'channel': ch,'num_peaks': num_peaks}, index=[0])\n",
    "        RMP_all = pd.concat([RMP_all.loc[:], RMP_df]).reset_index(drop=True)\n",
    "\n",
    "RMP_all.to_excel(work_dir + '/data_tables/' + OP + '_RMPs.xlsx', index=False)\n",
    "    "
   ]
  },
  {
   "cell_type": "code",
   "execution_count": 370,
   "metadata": {},
   "outputs": [
    {
     "data": {
      "text/plain": [
       "[<matplotlib.lines.Line2D at 0x7fab464700a0>]"
      ]
     },
     "execution_count": 370,
     "metadata": {},
     "output_type": "execute_result"
    },
    {
     "data": {
      "image/png": "[encoded data removed]",
      "text/plain": [
       "<Figure size 1440x576 with 1 Axes>"
      ]
     },
     "metadata": {
      "needs_background": "light"
     },
     "output_type": "display_data"
    },
    {
     "data": {
      "image/png": "[encoded data removed]",
      "text/plain": [
       "<Figure size 576x288 with 1 Axes>"
      ]
     },
     "metadata": {
      "needs_background": "light"
     },
     "output_type": "display_data"
    }
   ],
   "source": [
    "# plotting funcs not finished \n",
    "chan = 'Ch6'\n",
    "\n",
    "fn1 = work_dir + '23127033.abf'\n",
    "rec_time = hcf.get_recording_time(fn1)\n",
    "\n",
    "vm_long = hcf.load_traces(fn1)\n",
    "vm_long_flat = np.reshape(vm_long[chan][0], -1)\n",
    "\n",
    "fig, axs = plt.subplots(1, 1,figsize=(20, 8), sharex = True)\n",
    "\n",
    "peaks1 = peaks.detect_peaks(vm_long_flat[294149:294611], mph = 10, mpd = 10, \n",
    "       edge='rising',kpsh=True, show=True, title = chan)\n",
    "# y = np.concatenate((vm_long_all_dict[chan + ' before'], vm_long_all_dict[chan + ' after']))\n",
    "# x = np.linspace(0,len(y),len(y))  # /20_000\n",
    "\n",
    "# part1 = 4143290\n",
    "# part2 = 4149600\n",
    "#axs.plot(x[part1:part2],y[part1:part2])\n",
    "axs.plot(vm_long_flat[peaks1[0]:peaks1[-1]])\n",
    "#axs.plot(x,y)\n",
    "#axs.vlines(x[len(vm_long_all_dict['Ch5 before'])], -80, 20, colors = 'red', alpha = 0.7)"
   ]
  },
  {
   "cell_type": "code",
   "execution_count": 51,
   "metadata": {},
   "outputs": [],
   "source": [
    "def get_RMP_per_sweep (fn, active_chans):\n",
    "    ''' \n",
    "    fn - filename with path; chans is - list of active channels\n",
    "    for long RMP traces, returns a dataframe with fn, channel, sweep\n",
    "    and RMP\n",
    "    '''\n",
    "    fn_data = hcf.load_traces(fn)\n",
    "    chans, swps, RMPs = [], [], []\n",
    "    for chan in active_chans:\n",
    "        chan_data = fn_data['Ch' + str(chan)][0]\n",
    "        num_swps = np.shape(chan_data)[1]\n",
    "        for swp in range(num_swps):\n",
    "            chans.append(chan)\n",
    "            swps.append(swp)\n",
    "            RMPs.append(np.median(chan_data[100:1100,swp]))\n",
    "\n",
    "    RMP_df = pd.DataFrame({'filename':fn[-12], 'channel':chans, 'sweep_num':swps, 'resting_potential':RMPs}) \n",
    "    return RMP_df  \n",
    "\n",
    "fn = '/Users/verjim/laptop_D_17.01.2022/Schmitz_lab/data/human/data_verji/OP230914/23914004.abf'\n",
    "chans = [2,3,4]  \n",
    "df_RMP = get_RMP_per_sweep (fn, chans)\n",
    "\n",
    "#df_RMP = pd.DataFrame(columns = {'OP','exp_condition','filename', 'channel', 'sweep_num','resting_potential'})\n"
   ]
  },
  {
   "cell_type": "code",
   "execution_count": 56,
   "metadata": {},
   "outputs": [
    {
     "data": {
      "text/plain": [
       "'23914004.abf'"
      ]
     },
     "execution_count": 56,
     "metadata": {},
     "output_type": "execute_result"
    }
   ],
   "source": [
    "df_RMP.insert([0, 'OP', OP)"
   ]
  },
  {
   "cell_type": "code",
   "execution_count": 53,
   "metadata": {},
   "outputs": [
    {
     "data": {
      "text/html": [
       "<div>\n",
       "<style scoped>\n",
       "    .dataframe tbody tr th:only-of-type {\n",
       "        vertical-align: middle;\n",
       "    }\n",
       "\n",
       "    .dataframe tbody tr th {\n",
       "        vertical-align: top;\n",
       "    }\n",
       "\n",
       "    .dataframe thead th {\n",
       "        text-align: right;\n",
       "    }\n",
       "</style>\n",
       "<table border=\"1\" class=\"dataframe\">\n",
       "  <thead>\n",
       "    <tr style=\"text-align: right;\">\n",
       "      <th></th>\n",
       "      <th>OP</th>\n",
       "      <th>filename</th>\n",
       "      <th>channel</th>\n",
       "      <th>sweep_num</th>\n",
       "      <th>resting_potential</th>\n",
       "    </tr>\n",
       "  </thead>\n",
       "  <tbody>\n",
       "    <tr>\n",
       "      <th>0</th>\n",
       "      <td>OP230914</td>\n",
       "      <td>/Users/verjim/laptop_D_17.01.2022/Schmitz_lab/...</td>\n",
       "      <td>2</td>\n",
       "      <td>0</td>\n",
       "      <td>-70.312500</td>\n",
       "    </tr>\n",
       "    <tr>\n",
       "      <th>1</th>\n",
       "      <td>OP230914</td>\n",
       "      <td>/Users/verjim/laptop_D_17.01.2022/Schmitz_lab/...</td>\n",
       "      <td>2</td>\n",
       "      <td>1</td>\n",
       "      <td>-70.178223</td>\n",
       "    </tr>\n",
       "    <tr>\n",
       "      <th>2</th>\n",
       "      <td>OP230914</td>\n",
       "      <td>/Users/verjim/laptop_D_17.01.2022/Schmitz_lab/...</td>\n",
       "      <td>2</td>\n",
       "      <td>2</td>\n",
       "      <td>-71.105957</td>\n",
       "    </tr>\n",
       "    <tr>\n",
       "      <th>3</th>\n",
       "      <td>OP230914</td>\n",
       "      <td>/Users/verjim/laptop_D_17.01.2022/Schmitz_lab/...</td>\n",
       "      <td>2</td>\n",
       "      <td>3</td>\n",
       "      <td>-71.697998</td>\n",
       "    </tr>\n",
       "    <tr>\n",
       "      <th>4</th>\n",
       "      <td>OP230914</td>\n",
       "      <td>/Users/verjim/laptop_D_17.01.2022/Schmitz_lab/...</td>\n",
       "      <td>2</td>\n",
       "      <td>4</td>\n",
       "      <td>-71.691895</td>\n",
       "    </tr>\n",
       "    <tr>\n",
       "      <th>...</th>\n",
       "      <td>...</td>\n",
       "      <td>...</td>\n",
       "      <td>...</td>\n",
       "      <td>...</td>\n",
       "      <td>...</td>\n",
       "    </tr>\n",
       "    <tr>\n",
       "      <th>130</th>\n",
       "      <td>OP230914</td>\n",
       "      <td>/Users/verjim/laptop_D_17.01.2022/Schmitz_lab/...</td>\n",
       "      <td>4</td>\n",
       "      <td>40</td>\n",
       "      <td>-69.708252</td>\n",
       "    </tr>\n",
       "    <tr>\n",
       "      <th>131</th>\n",
       "      <td>OP230914</td>\n",
       "      <td>/Users/verjim/laptop_D_17.01.2022/Schmitz_lab/...</td>\n",
       "      <td>4</td>\n",
       "      <td>41</td>\n",
       "      <td>-69.494629</td>\n",
       "    </tr>\n",
       "    <tr>\n",
       "      <th>132</th>\n",
       "      <td>OP230914</td>\n",
       "      <td>/Users/verjim/laptop_D_17.01.2022/Schmitz_lab/...</td>\n",
       "      <td>4</td>\n",
       "      <td>42</td>\n",
       "      <td>-69.714355</td>\n",
       "    </tr>\n",
       "    <tr>\n",
       "      <th>133</th>\n",
       "      <td>OP230914</td>\n",
       "      <td>/Users/verjim/laptop_D_17.01.2022/Schmitz_lab/...</td>\n",
       "      <td>4</td>\n",
       "      <td>43</td>\n",
       "      <td>-69.616699</td>\n",
       "    </tr>\n",
       "    <tr>\n",
       "      <th>134</th>\n",
       "      <td>OP230914</td>\n",
       "      <td>/Users/verjim/laptop_D_17.01.2022/Schmitz_lab/...</td>\n",
       "      <td>4</td>\n",
       "      <td>44</td>\n",
       "      <td>-69.561768</td>\n",
       "    </tr>\n",
       "  </tbody>\n",
       "</table>\n",
       "<p>135 rows × 5 columns</p>\n",
       "</div>"
      ],
      "text/plain": [
       "           OP                                           filename  channel  \\\n",
       "0    OP230914  /Users/verjim/laptop_D_17.01.2022/Schmitz_lab/...        2   \n",
       "1    OP230914  /Users/verjim/laptop_D_17.01.2022/Schmitz_lab/...        2   \n",
       "2    OP230914  /Users/verjim/laptop_D_17.01.2022/Schmitz_lab/...        2   \n",
       "3    OP230914  /Users/verjim/laptop_D_17.01.2022/Schmitz_lab/...        2   \n",
       "4    OP230914  /Users/verjim/laptop_D_17.01.2022/Schmitz_lab/...        2   \n",
       "..        ...                                                ...      ...   \n",
       "130  OP230914  /Users/verjim/laptop_D_17.01.2022/Schmitz_lab/...        4   \n",
       "131  OP230914  /Users/verjim/laptop_D_17.01.2022/Schmitz_lab/...        4   \n",
       "132  OP230914  /Users/verjim/laptop_D_17.01.2022/Schmitz_lab/...        4   \n",
       "133  OP230914  /Users/verjim/laptop_D_17.01.2022/Schmitz_lab/...        4   \n",
       "134  OP230914  /Users/verjim/laptop_D_17.01.2022/Schmitz_lab/...        4   \n",
       "\n",
       "     sweep_num  resting_potential  \n",
       "0            0         -70.312500  \n",
       "1            1         -70.178223  \n",
       "2            2         -71.105957  \n",
       "3            3         -71.697998  \n",
       "4            4         -71.691895  \n",
       "..         ...                ...  \n",
       "130         40         -69.708252  \n",
       "131         41         -69.494629  \n",
       "132         42         -69.714355  \n",
       "133         43         -69.616699  \n",
       "134         44         -69.561768  \n",
       "\n",
       "[135 rows x 5 columns]"
      ]
     },
     "execution_count": 53,
     "metadata": {},
     "output_type": "execute_result"
    }
   ],
   "source": [
    "df_RMP"
   ]
  },
  {
   "cell_type": "markdown",
   "metadata": {},
   "source": [
    "# Analysis of TTX washout"
   ]
  },
  {
   "cell_type": "code",
   "execution_count": 5,
   "metadata": {},
   "outputs": [],
   "source": [
    "OP = 'OP230420'\n",
    "patcher = 'Verji'\n",
    "tissue_source = 'Bielefeld'\n",
    "inj = 'full'\n",
    "age = '13'"
   ]
  },
  {
   "cell_type": "code",
   "execution_count": 6,
   "metadata": {},
   "outputs": [],
   "source": [
    "work_dir, filenames, indices_dict, slice_names = sort.get_OP_metadata(human_dir, OP, patcher)\n",
    "\n",
    "file_list = sort.get_sorted_file_list(work_dir)\n",
    "jsons = sort.get_json_files(file_list)\n",
    "if OP + '_indices_dict.json' in jsons:\n",
    "    indices_dict = sort.from_json(work_dir, OP, '_indices_dict.json')\n",
    "else: \n",
    "    sort.to_json(work_dir, OP, '_indices_dict.json', indices_dict)\n",
    "\n",
    "slice_names = np.array(slice_names)"
   ]
  },
  {
   "cell_type": "code",
   "execution_count": 7,
   "metadata": {},
   "outputs": [
    {
     "name": "stdout",
     "output_type": "stream",
     "text": [
      "MAX number of AP = 1 for Ch1\n",
      "MAX number of AP = 1 for Ch1\n",
      "MAX number of AP = 1 for Ch1\n",
      "MAX number of AP = 1 for Ch1\n",
      "Only 1 SLOW AP found for Ch3\n",
      "MAX number of AP = 1 for Ch5\n",
      "MAX number of AP = 1 for Ch6\n",
      "MAX number of AP = 1 for Ch2\n",
      "Only 1 SLOW AP found for Ch3\n"
     ]
    }
   ],
   "source": [
    "df_OP = pd.DataFrame(columns=['filename', 'slice', 'cell_ch', 'cell_ID','resting_potential', \n",
    "'max_spikes', 'Rheobase', 'AP_heigth', 'TH', 'max_depol', 'max_repol', 'membra_time_constant_tau', 'capacitance'])\n",
    "\n",
    "slic = 'S3'\n",
    "\n",
    "first_for_slice = np.where(slice_names == slic)[0][0]\n",
    "last_for_slice = np.where(slice_names == slic)[0][-1]\n",
    "true_indices = (first_for_slice <= indices_dict['freq analyse']) & (indices_dict['freq analyse'] <= last_for_slice)\n",
    "\n",
    "char_files = np.array(indices_dict['freq analyse'])\n",
    "\n",
    "for char in char_files[true_indices]:\n",
    "    #char = indices_dict['freq analyse'][indx]\n",
    "    filename_char = work_dir + filenames[char]\n",
    "\n",
    "    active_channels = [1, 2, 3, 4, 5, 6, 8]\n",
    "    cell_IDs = hcf.get_cell_IDs(filename_char, slic, active_channels)\n",
    "\n",
    "    charact_dict = hcf.load_traces(filename_char)\n",
    "    RMPs = []\n",
    "    for chan in active_channels:\n",
    "        ch1 = charact_dict['Ch' + str(chan)][0]\n",
    "        RMPs.append(np.median(ch1[:,5]))\n",
    "\n",
    "    params1_df = pd.DataFrame({'filename': filenames[char], 'slice' : slic, 'cell_ch': active_channels,\n",
    "        'cell_ID':cell_IDs, 'resting_potential': RMPs })\n",
    "\n",
    "    tau_all, capacitance_all, mc_all, V65_all, RMPs_char = get_hyperpolar_param(charact_data, channels, inj, onset = 2624, offset = 22624, mc = np.ndarray([5,3])):\n",
    "\n",
    "\n",
    "    charact_params  = hcf.all_chracterization_params(filename_char, active_channels, inj)\n",
    "    df_char = pd.DataFrame.from_dict(charact_params)\n",
    "\n",
    "    df_to_add = pd.concat([params1_df, df_char], axis = 1)\n",
    "    df_OP = pd.concat([df_OP.loc[:], df_to_add]).reset_index(drop=True)\n",
    "\n",
    "df_OP.to_excel(work_dir + 'data_tables/' + OP + '_TTX_washout_experiments.xlsx', index=False) \n"
   ]
  },
  {
   "cell_type": "code",
   "execution_count": 8,
   "metadata": {},
   "outputs": [],
   "source": []
  },
  {
   "cell_type": "code",
   "execution_count": 9,
   "metadata": {},
   "outputs": [
    {
     "data": {
      "text/plain": [
       "{'max_spikes': [20, 23, 2271, 12, 15, 17, 13],\n",
       " 'Rheobase': [400, 450, 600, 550, 350, 250, nan],\n",
       " 'AP_heigth': [36.248779296875,\n",
       "  35.0341796875,\n",
       "  nan,\n",
       "  46.0205078125,\n",
       "  43.377685546875,\n",
       "  39.4287109375,\n",
       "  nan],\n",
       " 'TH': [-8.94775390625,\n",
       "  -14.788818359375,\n",
       "  nan,\n",
       "  -19.073486328125,\n",
       "  -21.0693359375,\n",
       "  -17.266845703125,\n",
       "  nan],\n",
       " 'max_depol': [47.36328125,\n",
       "  56.884765625,\n",
       "  nan,\n",
       "  134.6435546875,\n",
       "  109.9853515625,\n",
       "  74.0966796875,\n",
       "  nan],\n",
       " 'max_repol': [-22.705078125,\n",
       "  -20.01953125,\n",
       "  nan,\n",
       "  -43.212890625,\n",
       "  -30.1513671875,\n",
       "  -19.775390625,\n",
       "  nan],\n",
       " 'membra_time_constant_tau': [18.5,\n",
       "  21.450000000000003,\n",
       "  1.3,\n",
       "  17.7,\n",
       "  22.8,\n",
       "  24.3,\n",
       "  23.150000000000002],\n",
       " 'capacitance': [362.131421744325,\n",
       "  426.24232868405096,\n",
       "  10.806291222729582,\n",
       "  496.56986301369864,\n",
       "  498.7385847797063,\n",
       "  399.93088900050236,\n",
       "  466.8179692307693]}"
      ]
     },
     "execution_count": 9,
     "metadata": {},
     "output_type": "execute_result"
    }
   ],
   "source": []
  },
  {
   "cell_type": "code",
   "execution_count": null,
   "metadata": {},
   "outputs": [],
   "source": []
  }
 ],
 "metadata": {
  "kernelspec": {
   "display_name": "base",
   "language": "python",
   "name": "python3"
  },
  "language_info": {
   "codemirror_mode": {
    "name": "ipython",
    "version": 3
   },
   "file_extension": ".py",
   "mimetype": "text/x-python",
   "name": "python",
   "nbconvert_exporter": "python",
   "pygments_lexer": "ipython3",
   "version": "3.9.12"
  },
  "orig_nbformat": 4
 },
 "nbformat": 4,
 "nbformat_minor": 2
}
