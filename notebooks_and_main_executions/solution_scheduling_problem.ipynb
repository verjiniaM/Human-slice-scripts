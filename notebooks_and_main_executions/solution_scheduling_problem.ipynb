{
 "cells": [
  {
   "cell_type": "code",
   "execution_count": 2,
   "id": "7ca17c60",
   "metadata": {},
   "outputs": [],
   "source": [
    "# imports\n",
    "import numpy as np\n",
    "import pandas as pd"
   ]
  },
  {
   "cell_type": "markdown",
   "id": "4ca126b6",
   "metadata": {},
   "source": [
    "# A simple solution to the scheduling problem"
   ]
  },
  {
   "cell_type": "markdown",
   "id": "5e60825a",
   "metadata": {},
   "source": [
    "Before each assignment we should start with updating the three variables below - **trained_people**, **busy_people**, and **next_date**.\n",
    "\n",
    "https://trinket.io/python/b9684623be"
   ]
  },
  {
   "cell_type": "code",
   "execution_count": 45,
   "id": "9b76e3b6",
   "metadata": {},
   "outputs": [],
   "source": [
    "#make a copy of data until now before it's too late\n",
    "last_version = pd.read_excel('/Users/verjim/laptop_D_17.01.2022/Schmitz_lab/documents/trips_task_assignment/all_trips_simple.xlsx')\n",
    "last_version.to_excel('/Users/verjim/laptop_D_17.01.2022/Schmitz_lab/documents/trips_task_assignment/all_trips_simple copy 2.xlsx')"
   ]
  },
  {
   "cell_type": "code",
   "execution_count": 46,
   "id": "e33dc613",
   "metadata": {},
   "outputs": [],
   "source": [
    "trained_people_B = ['Alice', 'Franz', 'Verjinia', 'Michael', 'Henrik', 'Henrike']\n",
    "trained_people_H = ['Verjinia', 'Sarah', 'Alice', 'Franz', 'Michael', 'Philip']\n",
    "\n",
    "permanently_unavailable = ['Henrik', 'Beatriz', 'Ecem', 'Rosie', 'Ana', 'Mirja', 'Henrike', 'Sarah', 'Franz']"
   ]
  },
  {
   "cell_type": "code",
   "execution_count": 47,
   "id": "0b67fe46",
   "metadata": {},
   "outputs": [],
   "source": [
    "df_busy = pd.read_excel('/Users/verjim/laptop_D_17.01.2022/Schmitz_lab/documents/trips_task_assignment/business.xlsx')"
   ]
  },
  {
   "cell_type": "code",
   "execution_count": 48,
   "id": "00ca68a5",
   "metadata": {},
   "outputs": [],
   "source": [
    "indx_op = 30"
   ]
  },
  {
   "cell_type": "code",
   "execution_count": 49,
   "id": "7b31ae0b",
   "metadata": {},
   "outputs": [
    {
     "name": "stdout",
     "output_type": "stream",
     "text": [
      "2025-03-21-H\n"
     ]
    }
   ],
   "source": [
    "next_date = df_busy['date-city'][indx_op]\n",
    "print(next_date)"
   ]
  },
  {
   "cell_type": "code",
   "execution_count": 50,
   "id": "1ad99c17",
   "metadata": {},
   "outputs": [
    {
     "data": {
      "text/plain": [
       "['Henrik',\n",
       " 'Beatriz',\n",
       " 'Ecem',\n",
       " 'Rosie',\n",
       " 'Ana',\n",
       " 'Mirja',\n",
       " 'Henrike',\n",
       " 'Sarah',\n",
       " 'Franz',\n",
       " 'Michael',\n",
       " 'Philip',\n",
       " 'Franz',\n",
       " 'Mathilde',\n",
       " 'Johanna',\n",
       " 'Rita']"
      ]
     },
     "execution_count": 50,
     "metadata": {},
     "output_type": "execute_result"
    }
   ],
   "source": [
    "busy_people = permanently_unavailable + df_busy['not-available-people'][indx_op].split(', ')\n",
    "busy_people"
   ]
  },
  {
   "cell_type": "code",
   "execution_count": 51,
   "id": "c228d917",
   "metadata": {},
   "outputs": [],
   "source": [
    "#reading the data table with the stored information\n",
    "df = pd.read_excel('/Users/verjim/laptop_D_17.01.2022/Schmitz_lab/documents/trips_task_assignment/all_trips_simple.xlsx')\n",
    "\n",
    "#selecting only the last 15 trips\n",
    "df_simple = df.drop(df.index[0:-15], axis=0).reset_index(drop = True)"
   ]
  },
  {
   "cell_type": "code",
   "execution_count": 52,
   "id": "fa12b698",
   "metadata": {},
   "outputs": [],
   "source": [
    "#pool of available people\n",
    "available_people = list(set(df_simple.columns[2:-1]) - set(busy_people))"
   ]
  },
  {
   "cell_type": "code",
   "execution_count": 53,
   "id": "92bbbded",
   "metadata": {},
   "outputs": [],
   "source": [
    "#specifying the location team\n",
    "if next_date[-1] == 'H':\n",
    "    trained_people = trained_people_H\n",
    "if next_date[-1] == 'B':\n",
    "    trained_people = trained_people_B\n",
    "    \n",
    "#available trained people\n",
    "trained_people = list(set(trained_people) - set(busy_people))"
   ]
  },
  {
   "cell_type": "code",
   "execution_count": 54,
   "id": "a15fbb19",
   "metadata": {},
   "outputs": [],
   "source": [
    "#who went to the last trip --> decreasing chance that is going to the next one\n",
    "went_to_last_trip = df_simple.columns[df_simple.loc[len(df_simple)-1] == 1].tolist()"
   ]
  },
  {
   "cell_type": "code",
   "execution_count": 55,
   "id": "ddb4dffb",
   "metadata": {},
   "outputs": [],
   "source": [
    "#determining the scores for each person\n",
    "trips_per_person, weighted_scores = [], []\n",
    "for col in df_simple.columns[2:-2]:\n",
    "    trips_per_person.append(sum(df_simple[col]))\n",
    "    if col in went_to_last_trip:\n",
    "        weighted_scores.append(sum(df_simple[col])/len(df_simple) + 1) #adding one to make sure people don't go twice in a row\n",
    "    else:\n",
    "        weighted_scores.append(sum(df_simple[col])/len(df_simple))\n",
    "\n",
    "#creating a table with scores and trips per person\n",
    "training_score_df = pd.DataFrame({'person': df_simple.columns[2:-2], \\\n",
    "                          'trips_per_person':trips_per_person, \\\n",
    "                          'weighted_score':weighted_scores}).sort_values(by=['weighted_score', 'trips_per_person'], ignore_index = True)"
   ]
  },
  {
   "cell_type": "code",
   "execution_count": 56,
   "id": "211c2e81",
   "metadata": {},
   "outputs": [],
   "source": [
    "#calculating the scores of the trained people\n",
    "scores = []\n",
    "for person in trained_people:\n",
    "    scores.append(training_score_df['weighted_score'][training_score_df['person'] == person].item())"
   ]
  },
  {
   "cell_type": "code",
   "execution_count": 57,
   "id": "61f86cd0-4f81-4c57-bd2f-cbc15807b805",
   "metadata": {},
   "outputs": [
    {
     "data": {
      "text/plain": [
       "[0.26666666666666666, 0.2]"
      ]
     },
     "execution_count": 57,
     "metadata": {},
     "output_type": "execute_result"
    }
   ],
   "source": []
  },
  {
   "cell_type": "code",
   "execution_count": 41,
   "id": "f68964a9",
   "metadata": {},
   "outputs": [
    {
     "data": {
      "text/plain": [
       "['Verjinia', 'Chrys', 'Zhengzheng']"
      ]
     },
     "execution_count": 41,
     "metadata": {},
     "output_type": "execute_result"
    }
   ],
   "source": [
    "#chosing who is going to the next trip\n",
    "\n",
    "#trained person\n",
    "trained = []\n",
    "for i in range(len(training_score_df)):\n",
    "    if training_score_df.person[i] in available_people and training_score_df.person[i] in trained_people:\n",
    "        trained.append(training_score_df.person[i])\n",
    "        if len(trained) == 2:\n",
    "            break\n",
    "            \n",
    "#untrained\n",
    "untrained = []\n",
    "for i in range(len(training_score_df)):       \n",
    "    if training_score_df.person[i] in available_people and training_score_df.person[i] not in trained_people:\n",
    "        untrained.append(training_score_df.person[i])\n",
    "        if len(untrained) == 3:\n",
    "            break\n",
    "\n",
    "if len(trained) < 2:\n",
    "    replacement_people = ['none', untrained.pop(2)]\n",
    "else:\n",
    "    replacement_people = [trained.pop(1), untrained.pop(2)]\n",
    "people_next_trip = trained + untrained\n",
    "people_next_trip"
   ]
  },
  {
   "cell_type": "code",
   "execution_count": 42,
   "id": "538b0e3b",
   "metadata": {},
   "outputs": [],
   "source": [
    "#adding the new information to the existing datatable\n",
    "add_to_df = []\n",
    "for person in df_simple.columns[2:-2]:\n",
    "    if person in people_next_trip:\n",
    "        add_to_df.append(1)\n",
    "    else:\n",
    "        add_to_df.append(0)\n",
    "add_to_df.insert(0, next_date)\n",
    "add_to_df.insert(1, str(people_next_trip)[1:-2])\n",
    "add_to_df.insert(len(add_to_df), str(replacement_people)[1:-2])\n",
    "add_to_df.insert(len(add_to_df), 0)\n",
    "df.loc[len(df.index)] = add_to_df"
   ]
  },
  {
   "cell_type": "code",
   "execution_count": 43,
   "id": "55334fe1",
   "metadata": {},
   "outputs": [
    {
     "name": "stdout",
     "output_type": "stream",
     "text": [
      "The people going on the trip 2025-03-21-H are 'Verjinia', 'Chrys', 'Zhengzheng'\n",
      "The replacement people are 'Alice', 'James'\n"
     ]
    }
   ],
   "source": [
    "print('The people going on the trip ' + next_date + ' are ' + str(people_next_trip)[1:-1])\n",
    "print('The replacement people are ' + str(replacement_people)[1:-1])"
   ]
  },
  {
   "cell_type": "code",
   "execution_count": 44,
   "id": "de56c40c",
   "metadata": {},
   "outputs": [],
   "source": [
    "df.to_excel('/Users/verjim/laptop_D_17.01.2022/Schmitz_lab/documents/trips_task_assignment/all_trips_simple.xlsx', index = False)"
   ]
  },
  {
   "cell_type": "code",
   "execution_count": null,
   "id": "d7174d35",
   "metadata": {},
   "outputs": [],
   "source": []
  },
  {
   "cell_type": "markdown",
   "id": "9ce705b5",
   "metadata": {},
   "source": [
    "## Questions \n",
    "- How do we define trained? After how many trips?"
   ]
  },
  {
   "cell_type": "code",
   "execution_count": 1,
   "id": "6005ffb0",
   "metadata": {},
   "outputs": [],
   "source": [
    "#moving average for the last 15 trips \n",
    "#summing the scores and not only the ones for the trips\n",
    "#weight estimated number of hours"
   ]
  },
  {
   "cell_type": "markdown",
   "id": "0752f696",
   "metadata": {},
   "source": [
    "Tasks {number of people needed, weight (requierd time investment)}\n",
    "-\tPrepare and filter sucrose\t\t\t{1, 2}\n",
    "-\tTravel to destination\t\t\t\t{3, 10}\n",
    "-\tPrepare prep room and help upon arrival\t{1, 1}\n",
    "-\tClean up after last experiments\t\t{1, 1}\n",
    "-   Slicing in Berlin {3, 4}"
   ]
  },
  {
   "cell_type": "markdown",
   "id": "cc17e443",
   "metadata": {},
   "source": [
    "- new people introduced in HTM and then added to the list\n",
    "- available people - assume everyone unless mentioned\n",
    "- Prepare and filter sucrose - to keep standardized, only a few people \n",
    "- assignment of people to cleaning up\n",
    "- make a future assignment for the next 10 trips, then check availability\n",
    "- select more people (+1) as a possible replacement, if availability changes\n",
    "- have core groups for BIE and HAM, trained poeple are location-specific\n",
    "- (off-topic) professional looking name tags\n",
    "- two lists - cleaning team and sucrose team\n",
    "- moving average of 15 trips \n",
    "- to be a trained person., one needs introduction ot gas bottle handling\n",
    "- backup solution --> transport of chunck, not so much pressure, easier \n",
    "- close to trained - Henrike, Sarah, Philip"
   ]
  },
  {
   "cell_type": "code",
   "execution_count": null,
   "id": "1f75f519",
   "metadata": {},
   "outputs": [],
   "source": []
  }
 ],
 "metadata": {
  "kernelspec": {
   "display_name": "Python 3 (ipykernel)",
   "language": "python",
   "name": "python3"
  },
  "language_info": {
   "codemirror_mode": {
    "name": "ipython",
    "version": 3
   },
   "file_extension": ".py",
   "mimetype": "text/x-python",
   "name": "python",
   "nbconvert_exporter": "python",
   "pygments_lexer": "ipython3",
   "version": "3.12.0"
  }
 },
 "nbformat": 4,
 "nbformat_minor": 5
}
