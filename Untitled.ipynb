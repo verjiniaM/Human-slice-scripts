{
 "cells": [
  {
   "cell_type": "code",
   "execution_count": 1,
   "id": "4af56de6",
   "metadata": {},
   "outputs": [
    {
     "name": "stderr",
     "output_type": "stream",
     "text": [
      "/Users/verjim/laptop_D_17.01.2022/Schmitz_lab/code/Human-slice-scripts/detect_peaks.py:11: UserWarning: A newest version is available at https://pypi.org/project/detecta/\n",
      "  warnings.warn('A newest version is available at https://pypi.org/project/detecta/')\n"
     ]
    },
    {
     "name": "stdout",
     "output_type": "stream",
     "text": [
      "connectivity D1: Series([], dtype: float64)\n",
      "connectivity D2: Series([], dtype: float64)\n"
     ]
    }
   ],
   "source": [
    "import glob\n",
    "import funcs_sorting as sort\n",
    "import pandas as pd\n",
    "\n",
    "human_dir = '/Users/verjim/laptop_D_17.01.2022/Schmitz_lab/data/human/'\n",
    "\n",
    "OP_dirs = glob.glob(human_dir + 'data_*/' + 'OP*')\n",
    "OP_skip = ['OP210304', 'OP210319']\n",
    "\n",
    "OPs, slices, day, treatments, num_chans, possible_cons, num_connections  = [], [], [], [], [], [], []\n",
    "\n",
    "for i in range(len(OP_dirs)):\n",
    "    path_json = glob.glob(OP_dirs[i] + '/*_con_screen_only.json')\n",
    "    OP =  OP_dirs[i][OP_dirs[i].find('OP'):]\n",
    "\n",
    "    if OP in OP_skip:\n",
    "        continue\n",
    "\n",
    "    if len(path_json) == 0:\n",
    "        continue\n",
    "\n",
    "    con_dict = sort.open_json(path_json[0])[0]\n",
    "    for j in range(len(con_dict['active_chans'])):\n",
    "        OPs.append(OP)\n",
    "        slices.append(con_dict['slices'][j])\n",
    "        if len(con_dict['slices'][j]) < 3:\n",
    "            day == 'D1'\n",
    "        else:\n",
    "            day == 'D2'\n",
    "        day.append(day)\n",
    "        treatments.append(con_dict['treatment'][j])\n",
    "        num_chans.append(len(con_dict['active_chans'][j]))\n",
    "        possible_cons.append(len(con_dict['active_chans'][j])*(len(con_dict['active_chans'][j])-1))\n",
    "        if len(con_dict['pre_chans']) == 0:\n",
    "            num_connections.append(0)\n",
    "        else:\n",
    "            num_connections.append(len(con_dict['pre_chans'][j]))\n",
    "\n",
    "    \n",
    "df_connections = pd.DataFrame({ 'OP':OPs, 'slices':slices, 'day':day, 'treatment':treatments,\n",
    "    'num_channels':num_chans, 'num_possible_connections':possible_cons, 'found_connections':num_connections})\n",
    "\n",
    "df_d1 = df_connections.loc[df_connections['day'] == 'D1']\n",
    "df_d2 = df_connections[df_connections.day == 'D2']\n",
    "\n",
    "df_d1\n",
    "\n",
    "con_d1 = df_d1['num_possible_connections'] / df_d1['found_connections']\n",
    "con_d2 = df_d2.num_possible_connections / df_d2.found_connections\n",
    "\n",
    "print('connectivity D1: ' + str(con_d1))\n",
    "print('connectivity D2: ' + str(con_d2))"
   ]
  },
  {
   "cell_type": "code",
   "execution_count": null,
   "id": "9e48686e",
   "metadata": {},
   "outputs": [],
   "source": [
    "print(len(OPs))"
   ]
  },
  {
   "cell_type": "code",
   "execution_count": null,
   "id": "3bfed1a6",
   "metadata": {},
   "outputs": [],
   "source": []
  }
 ],
 "metadata": {
  "kernelspec": {
   "display_name": "Python 3 (ipykernel)",
   "language": "python",
   "name": "python3"
  },
  "language_info": {
   "codemirror_mode": {
    "name": "ipython",
    "version": 3
   },
   "file_extension": ".py",
   "mimetype": "text/x-python",
   "name": "python",
   "nbconvert_exporter": "python",
   "pygments_lexer": "ipython3",
   "version": "3.9.12"
  }
 },
 "nbformat": 4,
 "nbformat_minor": 5
}
