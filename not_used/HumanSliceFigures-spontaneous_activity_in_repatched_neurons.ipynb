{
 "cells": [
  {
   "cell_type": "markdown",
   "metadata": {},
   "source": [
    "# 'Making figures for grant application on homeostatic plasticity in human slices'\n",
    "1) synaptic inputs in same cell before and after longer incubation period"
   ]
  },
  {
   "cell_type": "code",
   "execution_count": 41,
   "metadata": {
    "collapsed": true
   },
   "outputs": [],
   "source": [
    "import numpy as np\n",
    "import matplotlib.pyplot as plt\n",
    "import neo\n",
    "import seaborn as sns"
   ]
  },
  {
   "cell_type": "code",
   "execution_count": 5,
   "metadata": {
    "collapsed": true
   },
   "outputs": [],
   "source": [
    "%matplotlib inline"
   ]
  },
  {
   "cell_type": "markdown",
   "metadata": {},
   "source": [
    "Load the cell - for this example using 210323s3c2 which was successfully repatched and spontaneous activity was collected in both recordings. On day 1 cell was recorded on channel 2. On day 2 cell was recorded on channel 7."
   ]
  },
  {
   "cell_type": "code",
   "execution_count": 50,
   "metadata": {},
   "outputs": [
    {
     "name": "stderr",
     "output_type": "stream",
     "text": [
      "the default signal_group_mode will change from 'split-all' to 'group-by-same-units' in next release\n"
     ]
    }
   ],
   "source": [
    "filename='/Volumes/TOSHIBA EXT/Human slices/OP210323/2021_03_24_0032.abf'\n",
    "data=neo.io.AxonIO(filename)\n",
    "b1=data.read()[0]\n",
    "trace={}\n",
    "for ch in range(len(b1.segments[0].analogsignals)):\n",
    "    signal=[]\n",
    "    for s in range(len(b1.segments)): \n",
    "        signal.append(b1.segments[s].analogsignals[ch])\n",
    "        name = b1.segments[0].analogsignals[ch].name\n",
    "        trace[name]=[signal,b1.segments[s].analogsignals[ch].annotations.values()]  #channel is zero-indexed so headstage1 == channel 0 etc etc\n",
    "  \n",
    "    if '_Ipatch' in trace:\n",
    "        trace['Ch1'] = trace.pop('_Ipatch')\n",
    "    \n",
    "    del ch, s, signal, name"
   ]
  },
  {
   "cell_type": "code",
   "execution_count": 52,
   "metadata": {},
   "outputs": [
    {
     "data": {
      "image/png": "[encoded data removed]",
      "text/plain": [
       "<Figure size 432x288 with 1 Axes>"
      ]
     },
     "metadata": {},
     "output_type": "display_data"
    }
   ],
   "source": [
    "fig, ax = plt.subplots()\n",
    "ax.plot(trace['Ch2'][0][8].view(np.recarray)[100000:200000], color='k', lw=0.5)\n",
    "ax.set_ylim([60,160])\n",
    "ax.vlines(0,80,90, color='k', lw=0.5)\n",
    "ax.hlines(80,0,20000, color='k', lw=0.5)\n",
    "ax.set_axis_off()\n",
    "#fig.savefig('/Volumes/TOSHIBA EXT/Grant applications/DFG/Figures/repatchedDay1spontaneousact.svg',\n",
    "#          format='svg', dpi=1000, bbox_inches='tight')"
   ]
  },
  {
   "cell_type": "code",
   "execution_count": 53,
   "metadata": {},
   "outputs": [
    {
     "name": "stderr",
     "output_type": "stream",
     "text": [
      "the default signal_group_mode will change from 'split-all' to 'group-by-same-units' in next release\n"
     ]
    }
   ],
   "source": [
    "filename='/Volumes/TOSHIBA EXT/Human slices/OP210323/2021_03_25_0039.abf'\n",
    "data=neo.io.AxonIO(filename)\n",
    "b1=data.read()[0]\n",
    "trace={}\n",
    "for ch in range(len(b1.segments[0].analogsignals)):\n",
    "    signal=[]\n",
    "    for s in range(len(b1.segments)): \n",
    "        signal.append(b1.segments[s].analogsignals[ch])\n",
    "        name = b1.segments[0].analogsignals[ch].name\n",
    "        trace[name]=[signal,b1.segments[s].analogsignals[ch].annotations.values()]  #channel is zero-indexed so headstage1 == channel 0 etc etc\n",
    "  \n",
    "    if '_Ipatch' in trace:\n",
    "        trace['Ch1'] = trace.pop('_Ipatch')\n",
    "    \n",
    "    del ch, s, signal, name"
   ]
  },
  {
   "cell_type": "code",
   "execution_count": 54,
   "metadata": {},
   "outputs": [
    {
     "data": {
      "image/png": "[encoded data removed]",
      "text/plain": [
       "<Figure size 432x288 with 1 Axes>"
      ]
     },
     "metadata": {},
     "output_type": "display_data"
    }
   ],
   "source": [
    "f2,ax2 = plt.subplots()\n",
    "ax2.plot(trace['Ch7'][0][6].view(np.recarray)[100000:200000], color='k', lw=0.5)\n",
    "ax2.set_ylim([130,230])\n",
    "ax2.set_axis_off()\n",
    "ax2.hlines(160,60000,80000, color='k', lw=0.5)\n",
    "ax2.vlines(60000,160,170, color='k', lw=0.5)\n",
    "#f2.savefig('/Volumes/TOSHIBA EXT/Grant applications/DFG/Figures/repatchedDay2spontaneousact.svg',\n",
    "#           format='svg', dpi=1000, bbox_inches='tight')"
   ]
  },
  {
   "cell_type": "code",
   "execution_count": null,
   "metadata": {
    "collapsed": true
   },
   "outputs": [],
   "source": []
  }
 ],
 "metadata": {
  "kernelspec": {
   "display_name": "py3",
   "language": "python",
   "name": "py3"
  },
  "language_info": {
   "codemirror_mode": {
    "name": "ipython",
    "version": 3
   },
   "file_extension": ".py",
   "mimetype": "text/x-python",
   "name": "python",
   "nbconvert_exporter": "python",
   "pygments_lexer": "ipython3",
   "version": "3.5.4"
  }
 },
 "nbformat": 4,
 "nbformat_minor": 2
}
